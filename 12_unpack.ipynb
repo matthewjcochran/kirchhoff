{
 "cells": [
  {
   "cell_type": "code",
   "execution_count": 1,
   "id": "8e2ced53-d464-4f20-bf1e-345043b9b3d9",
   "metadata": {},
   "outputs": [],
   "source": [
    "import os\n",
    "import pandas as pd\n",
    "\n",
    "from IPython.display import HTML"
   ]
  },
  {
   "cell_type": "code",
   "execution_count": 2,
   "id": "9a53f2a7-adce-484c-b0a5-594218ad0fb3",
   "metadata": {},
   "outputs": [],
   "source": [
    "dir00 = 'vorlesungenberm00kircgoog_tif'\n",
    "dir01 = 'vorlesungenberm01kircgoog_tif'\n",
    "\n",
    "df00 = pd.read_csv('vorlesungen00_lect_page_file.csv')\n",
    "df01 = pd.read_csv('vorlesungen01_lect_page_file.csv')\n",
    "\n",
    "lect2pages00 = df00.groupby('lect')['page'].apply(list).to_dict()\n",
    "lect2pages01 = df01.groupby('lect')['page'].apply(list).to_dict()\n",
    "\n",
    "page2file00 = df00.set_index('page')['file'].to_dict()\n",
    "page2file01 = df01.set_index('page')['file'].to_dict()\n",
    "\n",
    "assert lect2pages00 == lect2pages01\n",
    "lect2pages = lect2pages00"
   ]
  },
  {
   "cell_type": "code",
   "execution_count": 3,
   "id": "ec2ce3d6-2202-477a-a99e-d6d752248d72",
   "metadata": {},
   "outputs": [],
   "source": [
    "# View a lecture to see if unpacking is working.\n",
    "\n",
    "lect = 1\n",
    "\n",
    "lect_pages = lect2pages[lect]\n",
    "\n",
    "lect_files00 = [page2file00[page] for page in lect_pages]\n",
    "lect_files01 = [page2file01[page] for page in lect_pages]\n",
    "\n",
    "lect_paths00 = [os.path.join(dir00, file) for file in lect_files00]\n",
    "lect_paths01 = [os.path.join(dir01, file) for file in lect_files01]\n",
    "\n",
    "imgs00 = ''.join([f'<div><img src=\"{path}\"></div>' for path in lect_paths00])\n",
    "imgs01 = ''.join([f'<div><img src=\"{path}\"></div>' for path in lect_paths01])\n",
    "\n",
    "style5 = '\"display: grid; grid-template-columns: repeat(5, 1fr);\"'\n",
    "\n",
    "html00 = f'<div style={style5}>{imgs00}</div>'\n",
    "html01 = f'<div style={style5}>{imgs01}</div>'"
   ]
  },
  {
   "cell_type": "code",
   "execution_count": 4,
   "id": "3af338f1-d5e0-4c0b-aaf0-d1632bdc131d",
   "metadata": {},
   "outputs": [
    {
     "data": {
      "text/html": [
       "<div style=\"display: grid; grid-template-columns: repeat(5, 1fr);\"><div><img src=\"vorlesungenberm00kircgoog_tif/vorlesungenberm00kircgoog_0017.tif\"></div><div><img src=\"vorlesungenberm00kircgoog_tif/vorlesungenberm00kircgoog_0018.tif\"></div><div><img src=\"vorlesungenberm00kircgoog_tif/vorlesungenberm00kircgoog_0019.tif\"></div><div><img src=\"vorlesungenberm00kircgoog_tif/vorlesungenberm00kircgoog_0020.tif\"></div><div><img src=\"vorlesungenberm00kircgoog_tif/vorlesungenberm00kircgoog_0021.tif\"></div><div><img src=\"vorlesungenberm00kircgoog_tif/vorlesungenberm00kircgoog_0022.tif\"></div><div><img src=\"vorlesungenberm00kircgoog_tif/vorlesungenberm00kircgoog_0023.tif\"></div><div><img src=\"vorlesungenberm00kircgoog_tif/vorlesungenberm00kircgoog_0024.tif\"></div><div><img src=\"vorlesungenberm00kircgoog_tif/vorlesungenberm00kircgoog_0025.tif\"></div><div><img src=\"vorlesungenberm00kircgoog_tif/vorlesungenberm00kircgoog_0026.tif\"></div><div><img src=\"vorlesungenberm00kircgoog_tif/vorlesungenberm00kircgoog_0027.tif\"></div><div><img src=\"vorlesungenberm00kircgoog_tif/vorlesungenberm00kircgoog_0028.tif\"></div></div>"
      ],
      "text/plain": [
       "<IPython.core.display.HTML object>"
      ]
     },
     "metadata": {},
     "output_type": "display_data"
    }
   ],
   "source": [
    "display(HTML(html00))"
   ]
  },
  {
   "cell_type": "code",
   "execution_count": 5,
   "id": "5bebb4ca-0382-4821-b9bf-337541f7c7cc",
   "metadata": {},
   "outputs": [
    {
     "data": {
      "text/html": [
       "<div style=\"display: grid; grid-template-columns: repeat(5, 1fr);\"><div><img src=\"vorlesungenberm01kircgoog_tif/vorlesungenberm01kircgoog_0017.tif\"></div><div><img src=\"vorlesungenberm01kircgoog_tif/vorlesungenberm01kircgoog_0018.tif\"></div><div><img src=\"vorlesungenberm01kircgoog_tif/vorlesungenberm01kircgoog_0019.tif\"></div><div><img src=\"vorlesungenberm01kircgoog_tif/vorlesungenberm01kircgoog_0020.tif\"></div><div><img src=\"vorlesungenberm01kircgoog_tif/vorlesungenberm01kircgoog_0021.tif\"></div><div><img src=\"vorlesungenberm01kircgoog_tif/vorlesungenberm01kircgoog_0022.tif\"></div><div><img src=\"vorlesungenberm01kircgoog_tif/vorlesungenberm01kircgoog_0023.tif\"></div><div><img src=\"vorlesungenberm01kircgoog_tif/vorlesungenberm01kircgoog_0024.tif\"></div><div><img src=\"vorlesungenberm01kircgoog_tif/vorlesungenberm01kircgoog_0025.tif\"></div><div><img src=\"vorlesungenberm01kircgoog_tif/vorlesungenberm01kircgoog_0026.tif\"></div><div><img src=\"vorlesungenberm01kircgoog_tif/vorlesungenberm01kircgoog_0027.tif\"></div><div><img src=\"vorlesungenberm01kircgoog_tif/vorlesungenberm01kircgoog_0028.tif\"></div></div>"
      ],
      "text/plain": [
       "<IPython.core.display.HTML object>"
      ]
     },
     "metadata": {},
     "output_type": "display_data"
    }
   ],
   "source": [
    "display(HTML(html01))"
   ]
  },
  {
   "cell_type": "code",
   "execution_count": 6,
   "id": "0904f2cb-7e95-4e13-b759-7e794b6aed36",
   "metadata": {},
   "outputs": [],
   "source": [
    "# View a lecture to see if unpacking is working.\n",
    "\n",
    "lect = 15\n",
    "\n",
    "lect_pages = lect2pages[lect]\n",
    "\n",
    "lect_files00 = [page2file00[page] for page in lect_pages]\n",
    "lect_files01 = [page2file01[page] for page in lect_pages]\n",
    "\n",
    "lect_paths00 = [os.path.join(dir00, file) for file in lect_files00]\n",
    "lect_paths01 = [os.path.join(dir01, file) for file in lect_files01]\n",
    "\n",
    "imgs00 = ''.join([f'<div><img src=\"{path}\"></div>' for path in lect_paths00])\n",
    "imgs01 = ''.join([f'<div><img src=\"{path}\"></div>' for path in lect_paths01])\n",
    "\n",
    "style5 = '\"display: grid; grid-template-columns: repeat(5, 1fr);\"'\n",
    "\n",
    "html00 = f'<div style={style5}>{imgs00}</div>'\n",
    "html01 = f'<div style={style5}>{imgs01}</div>'"
   ]
  },
  {
   "cell_type": "code",
   "execution_count": 7,
   "id": "2f5a9e41-308e-42a9-b254-e312124c3b48",
   "metadata": {},
   "outputs": [
    {
     "data": {
      "text/html": [
       "<div style=\"display: grid; grid-template-columns: repeat(5, 1fr);\"><div><img src=\"vorlesungenberm00kircgoog_tif/vorlesungenberm00kircgoog_0177.tif\"></div><div><img src=\"vorlesungenberm00kircgoog_tif/vorlesungenberm00kircgoog_0178.tif\"></div><div><img src=\"vorlesungenberm00kircgoog_tif/vorlesungenberm00kircgoog_0179.tif\"></div><div><img src=\"vorlesungenberm00kircgoog_tif/vorlesungenberm00kircgoog_0180.tif\"></div><div><img src=\"vorlesungenberm00kircgoog_tif/vorlesungenberm00kircgoog_0181.tif\"></div><div><img src=\"vorlesungenberm00kircgoog_tif/vorlesungenberm00kircgoog_0182.tif\"></div><div><img src=\"vorlesungenberm00kircgoog_tif/vorlesungenberm00kircgoog_0183.tif\"></div><div><img src=\"vorlesungenberm00kircgoog_tif/vorlesungenberm00kircgoog_0184.tif\"></div><div><img src=\"vorlesungenberm00kircgoog_tif/vorlesungenberm00kircgoog_0185.tif\"></div><div><img src=\"vorlesungenberm00kircgoog_tif/vorlesungenberm00kircgoog_0186.tif\"></div><div><img src=\"vorlesungenberm00kircgoog_tif/vorlesungenberm00kircgoog_0187.tif\"></div><div><img src=\"vorlesungenberm00kircgoog_tif/vorlesungenberm00kircgoog_0188.tif\"></div></div>"
      ],
      "text/plain": [
       "<IPython.core.display.HTML object>"
      ]
     },
     "metadata": {},
     "output_type": "display_data"
    }
   ],
   "source": [
    "display(HTML(html00))"
   ]
  },
  {
   "cell_type": "code",
   "execution_count": 8,
   "id": "9dc0b76f-d026-4214-b799-b3b95ef7c0ce",
   "metadata": {},
   "outputs": [
    {
     "data": {
      "text/html": [
       "<div style=\"display: grid; grid-template-columns: repeat(5, 1fr);\"><div><img src=\"vorlesungenberm01kircgoog_tif/vorlesungenberm01kircgoog_0177.tif\"></div><div><img src=\"vorlesungenberm01kircgoog_tif/vorlesungenberm01kircgoog_0178.tif\"></div><div><img src=\"vorlesungenberm01kircgoog_tif/vorlesungenberm01kircgoog_0179.tif\"></div><div><img src=\"vorlesungenberm01kircgoog_tif/vorlesungenberm01kircgoog_0180.tif\"></div><div><img src=\"vorlesungenberm01kircgoog_tif/vorlesungenberm01kircgoog_0181.tif\"></div><div><img src=\"vorlesungenberm01kircgoog_tif/vorlesungenberm01kircgoog_0182.tif\"></div><div><img src=\"vorlesungenberm01kircgoog_tif/vorlesungenberm01kircgoog_0183.tif\"></div><div><img src=\"vorlesungenberm01kircgoog_tif/vorlesungenberm01kircgoog_0184.tif\"></div><div><img src=\"vorlesungenberm01kircgoog_tif/vorlesungenberm01kircgoog_0185.tif\"></div><div><img src=\"vorlesungenberm01kircgoog_tif/vorlesungenberm01kircgoog_0186.tif\"></div><div><img src=\"vorlesungenberm01kircgoog_tif/vorlesungenberm01kircgoog_0187.tif\"></div><div><img src=\"vorlesungenberm01kircgoog_tif/vorlesungenberm01kircgoog_0188.tif\"></div></div>"
      ],
      "text/plain": [
       "<IPython.core.display.HTML object>"
      ]
     },
     "metadata": {},
     "output_type": "display_data"
    }
   ],
   "source": [
    "display(HTML(html01))"
   ]
  },
  {
   "cell_type": "code",
   "execution_count": null,
   "id": "25b2117a-1e1a-4647-8dab-f956a0e3bc11",
   "metadata": {},
   "outputs": [],
   "source": []
  },
  {
   "cell_type": "code",
   "execution_count": null,
   "id": "d2311099-22a1-4473-ad01-7937463d41d8",
   "metadata": {},
   "outputs": [],
   "source": []
  },
  {
   "cell_type": "code",
   "execution_count": null,
   "id": "d9098ab1-5542-418a-8d0c-f81899e919fc",
   "metadata": {},
   "outputs": [],
   "source": []
  }
 ],
 "metadata": {
  "kernelspec": {
   "display_name": "Python 3 (ipykernel)",
   "language": "python",
   "name": "python3"
  },
  "language_info": {
   "codemirror_mode": {
    "name": "ipython",
    "version": 3
   },
   "file_extension": ".py",
   "mimetype": "text/x-python",
   "name": "python",
   "nbconvert_exporter": "python",
   "pygments_lexer": "ipython3",
   "version": "3.9.6"
  }
 },
 "nbformat": 4,
 "nbformat_minor": 5
}
